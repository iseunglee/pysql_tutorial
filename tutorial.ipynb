{
 "cells": [
  {
   "cell_type": "code",
   "execution_count": 1,
   "metadata": {},
   "outputs": [
    {
     "name": "stdout",
     "output_type": "stream",
     "text": [
      "데이터베이스에 성공적으로 연결되었습니다.\n"
     ]
    }
   ],
   "source": [
    "import psycopg2\n",
    "\n",
    "# 해당 내용들은 깃에 업데이트가 되면 안되는 내용이다. 따라서 .env 파일을 이용해 보안을 적용해야 한다.\n",
    "# 연결 파라미터 설정\n",
    "conn_params = {\n",
    "    'dbname': 'testdb',\n",
    "    'user': 'postgres',\n",
    "    'password': '1234',\n",
    "    'host': 'localhost',  # 데이터베이스 서버가 로컬에 있을 경우\n",
    "}\n",
    "\n",
    "# 데이터베이스 연결 시도\n",
    "try:\n",
    "    conn = psycopg2.connect(**conn_params) # conn 객체 생성\n",
    "    print(\"데이터베이스에 성공적으로 연결되었습니다.\")\n",
    "except psycopg2.Error as e:\n",
    "    print(\"데이터베이스 연결 중 오류가 발생했습니다.\")\n",
    "    print(e)"
   ]
  },
  {
   "cell_type": "code",
   "execution_count": 2,
   "metadata": {},
   "outputs": [
    {
     "data": {
      "text/plain": [
       "<connection object at 0x0000029E779F4E10; dsn: 'user=postgres password=xxx dbname=testdb host=localhost', closed: 0>"
      ]
     },
     "execution_count": 2,
     "metadata": {},
     "output_type": "execute_result"
    }
   ],
   "source": [
    "\n",
    "# 객체 생성 확인\n",
    "conn"
   ]
  },
  {
   "cell_type": "code",
   "execution_count": 3,
   "metadata": {},
   "outputs": [
    {
     "name": "stdout",
     "output_type": "stream",
     "text": [
      "테이블이 성공적으로 생성되었습니다.\n"
     ]
    }
   ],
   "source": [
    "# 커서 객체 생성\n",
    "cur = conn.cursor() # conn에 무언가 시키려면 cursor 객체를 생성해야 한다.\n",
    "\n",
    "# SQL 쿼리 실행: 테이블 생성\n",
    "create_table_query = \"\"\"\n",
    "CREATE TABLE IF NOT EXISTS users (\n",
    "    id SERIAL PRIMARY KEY,\n",
    "    name VARCHAR(50),\n",
    "    age INT\n",
    ");\n",
    "\"\"\"\n",
    "cur.execute(create_table_query)\n",
    "conn.commit()  # 쿼리 결과를 데이터베이스에 반영\n",
    "\n",
    "print(\"테이블이 성공적으로 생성되었습니다.\")"
   ]
  },
  {
   "cell_type": "code",
   "execution_count": 4,
   "metadata": {},
   "outputs": [
    {
     "name": "stdout",
     "output_type": "stream",
     "text": [
      "데이터가 성공적으로 삽입되었습니다.\n"
     ]
    }
   ],
   "source": [
    "# 데이터 삽입 쿼리\n",
    "insert_query = \"\"\"\n",
    "INSERT INTO users (name, age) VALUES (%s, %s);\n",
    "\"\"\"\n",
    "# 데이터 삽입 실행\n",
    "cur.execute(insert_query, ('Lion', 100))\n",
    "conn.commit()\n",
    "\n",
    "print(\"데이터가 성공적으로 삽입되었습니다.\")"
   ]
  },
  {
   "cell_type": "code",
   "execution_count": 7,
   "metadata": {},
   "outputs": [
    {
     "name": "stdout",
     "output_type": "stream",
     "text": [
      "hello world\n",
      "hello world\n",
      "hello world\n"
     ]
    }
   ],
   "source": [
    "text = \"hello {}\".format(\"world\")\n",
    "print(text)\n",
    "text1 = \"hello %s\"%(\"world\")\n",
    "print(text1)\n",
    "val = \"world\"\n",
    "text2 = f\"hello {val}\"\n",
    "print(text2)"
   ]
  },
  {
   "cell_type": "code",
   "execution_count": 9,
   "metadata": {},
   "outputs": [
    {
     "ename": "InFailedSqlTransaction",
     "evalue": "오류:  현재 트랜잭션은 중지되어 있습니다. 이 트랜잭션을 종료하기 전까지는 모든 명령이 무시될 것입니다\n",
     "output_type": "error",
     "traceback": [
      "\u001b[1;31m---------------------------------------------------------------------------\u001b[0m",
      "\u001b[1;31mInFailedSqlTransaction\u001b[0m                    Traceback (most recent call last)",
      "Cell \u001b[1;32mIn[9], line 6\u001b[0m\n\u001b[0;32m      2\u001b[0m insert_query \u001b[38;5;241m=\u001b[39m \u001b[38;5;124m\"\"\"\u001b[39m\n\u001b[0;32m      3\u001b[0m \u001b[38;5;124mINSERT INTO users (name, age) VALUES (\u001b[39m\u001b[38;5;124m'\u001b[39m\u001b[38;5;132;01m{}\u001b[39;00m\u001b[38;5;124m'\u001b[39m\u001b[38;5;124m, \u001b[39m\u001b[38;5;132;01m{}\u001b[39;00m\u001b[38;5;124m);\u001b[39m\n\u001b[0;32m      4\u001b[0m \u001b[38;5;124m\"\"\"\u001b[39m\u001b[38;5;241m.\u001b[39mformat(\u001b[38;5;124m'\u001b[39m\u001b[38;5;124mtiger\u001b[39m\u001b[38;5;124m'\u001b[39m, \u001b[38;5;241m20\u001b[39m)\n\u001b[0;32m      5\u001b[0m \u001b[38;5;66;03m# 데이터 삽입 실행\u001b[39;00m\n\u001b[1;32m----> 6\u001b[0m \u001b[43mcur\u001b[49m\u001b[38;5;241;43m.\u001b[39;49m\u001b[43mexecute\u001b[49m\u001b[43m(\u001b[49m\u001b[43minsert_query\u001b[49m\u001b[43m,\u001b[49m\u001b[43m \u001b[49m\u001b[43m(\u001b[49m\u001b[38;5;124;43m'\u001b[39;49m\u001b[38;5;124;43mLion\u001b[39;49m\u001b[38;5;124;43m'\u001b[39;49m\u001b[43m,\u001b[49m\u001b[43m \u001b[49m\u001b[38;5;241;43m100\u001b[39;49m\u001b[43m)\u001b[49m\u001b[43m)\u001b[49m\n\u001b[0;32m      7\u001b[0m conn\u001b[38;5;241m.\u001b[39mcommit()\n\u001b[0;32m      9\u001b[0m \u001b[38;5;28mprint\u001b[39m(\u001b[38;5;124m\"\u001b[39m\u001b[38;5;124m데이터가 성공적으로 삽입되었습니다.\u001b[39m\u001b[38;5;124m\"\u001b[39m)\n",
      "\u001b[1;31mInFailedSqlTransaction\u001b[0m: 오류:  현재 트랜잭션은 중지되어 있습니다. 이 트랜잭션을 종료하기 전까지는 모든 명령이 무시될 것입니다\n"
     ]
    }
   ],
   "source": [
    "# 데이터 삽입 쿼리\n",
    "insert_query = \"\"\"\n",
    "INSERT INTO users (name, age) VALUES ('{}', {});\n",
    "\"\"\".format('tiger', 20)\n",
    "# 데이터 삽입 실행\n",
    "cur.execute(insert_query, ('Lion', 100))\n",
    "conn.commit()\n",
    "\n",
    "print(\"데이터가 성공적으로 삽입되었습니다.\")"
   ]
  },
  {
   "cell_type": "code",
   "execution_count": 10,
   "metadata": {},
   "outputs": [
    {
     "ename": "InFailedSqlTransaction",
     "evalue": "오류:  현재 트랜잭션은 중지되어 있습니다. 이 트랜잭션을 종료하기 전까지는 모든 명령이 무시될 것입니다\n",
     "output_type": "error",
     "traceback": [
      "\u001b[1;31m---------------------------------------------------------------------------\u001b[0m",
      "\u001b[1;31mInFailedSqlTransaction\u001b[0m                    Traceback (most recent call last)",
      "Cell \u001b[1;32mIn[10], line 5\u001b[0m\n\u001b[0;32m      2\u001b[0m select_query \u001b[38;5;241m=\u001b[39m \u001b[38;5;124m\"\u001b[39m\u001b[38;5;124mSELECT * FROM users;\u001b[39m\u001b[38;5;124m\"\u001b[39m\n\u001b[0;32m      4\u001b[0m \u001b[38;5;66;03m# 쿼리 실행\u001b[39;00m\n\u001b[1;32m----> 5\u001b[0m \u001b[43mcur\u001b[49m\u001b[38;5;241;43m.\u001b[39;49m\u001b[43mexecute\u001b[49m\u001b[43m(\u001b[49m\u001b[43mselect_query\u001b[49m\u001b[43m)\u001b[49m\n\u001b[0;32m      7\u001b[0m \u001b[38;5;66;03m# 모든 결과 행 가져오기\u001b[39;00m\n\u001b[0;32m      8\u001b[0m rows \u001b[38;5;241m=\u001b[39m cur\u001b[38;5;241m.\u001b[39mfetchall()\n",
      "\u001b[1;31mInFailedSqlTransaction\u001b[0m: 오류:  현재 트랜잭션은 중지되어 있습니다. 이 트랜잭션을 종료하기 전까지는 모든 명령이 무시될 것입니다\n"
     ]
    }
   ],
   "source": [
    "# 데이터 조회 쿼리\n",
    "select_query = \"SELECT * FROM users;\"\n",
    "\n",
    "# 쿼리 실행\n",
    "cur.execute(select_query)\n",
    "\n",
    "# 모든 결과 행 가져오기\n",
    "rows = cur.fetchall()\n",
    "\n",
    "for row in rows:\n",
    "    print(row)\n"
   ]
  },
  {
   "cell_type": "code",
   "execution_count": 11,
   "metadata": {},
   "outputs": [],
   "source": [
    "# 자원 정리\n",
    "cur.close()\n",
    "conn.close()"
   ]
  },
  {
   "cell_type": "code",
   "execution_count": null,
   "metadata": {},
   "outputs": [],
   "source": [
    "# context manager \n",
    "# 자원을 읽고 쓰고 하는\n",
    "with open('text.txt', 'w') as f: # 외부의 자원을 취득하고 해제하고 : with을 사용\n",
    "    f.write('hello')\n",
    "\n",
    "# with 없이 사용하려면\n",
    "f = open('text.txt', 'w')\n",
    "f.write(\"world\")\n",
    "f.close() # 자원 해제\n",
    "# with을 사용하지 않으면 자원을 해제하는 코드를 작성하는데 신경써야 한다."
   ]
  },
  {
   "cell_type": "markdown",
   "metadata": {},
   "source": [
    "# 24-03-27 아기사자반"
   ]
  },
  {
   "cell_type": "code",
   "execution_count": 1,
   "metadata": {},
   "outputs": [],
   "source": [
    "import psycopg2"
   ]
  },
  {
   "cell_type": "markdown",
   "metadata": {},
   "source": [
    "## 1. connection (postgresql db와 연결)"
   ]
  },
  {
   "cell_type": "code",
   "execution_count": null,
   "metadata": {},
   "outputs": [],
   "source": [
    "conn_config = {\n",
    "    'host' : 'hanslab.org',\n",
    "    'user' : 'postgres',\n",
    "    'password' : '',\n",
    "    'dbname' : 'testdb',\n",
    "    'port' : 25432\n",
    "}\n",
    "\n",
    "conn_lion = psycopg2.connect(**conn_config) \n",
    "\n",
    "# 안의 인자들은 보안때문에 외부 노출하면 안됨 : .env 파일 사용\n",
    "# ** : 안의 내용을 풀어온다."
   ]
  },
  {
   "cell_type": "markdown",
   "metadata": {},
   "source": [
    "## 2. cursor 생성"
   ]
  },
  {
   "cell_type": "code",
   "execution_count": null,
   "metadata": {},
   "outputs": [],
   "source": [
    "cur = conn_lion.cursor() # 커서 생성\n",
    "# 커서 생성하여 다양한 쿼리문을 날릴 수 있다.\n",
    "# 쿼리문은 db에 명령을 내리는 sql 문이다."
   ]
  },
  {
   "cell_type": "markdown",
   "metadata": {},
   "source": [
    "## CRUD\n",
    "- C : CREATE -> insert (psycopg2 명령어)\n",
    "- R : READ -> select\n",
    "- U : UPDATE -> update\n",
    "- D : DELETE -> delete"
   ]
  },
  {
   "cell_type": "code",
   "execution_count": null,
   "metadata": {},
   "outputs": [],
   "source": [
    "# create\n",
    "sql = \"insert into actor (first_name, last_name) values ('승희', '이');\" # 쿼리문 생성\n",
    "cur.execute(sql) # 쿼리문 실행(execute)\n",
    "conn_lion.commit() # 커밋을 해야지 반영됨\n"
   ]
  },
  {
   "cell_type": "code",
   "execution_count": null,
   "metadata": {},
   "outputs": [],
   "source": [
    "# create upgrade\n",
    "# 파이써닉 하게 f string 사용하여 아래와 같이 자동화할 수 있다.\n",
    "first_name = '충림'\n",
    "last_name = '방'\n",
    "sql = f\"insert into actor (first_name, last_name) values ('{first_name}', '{last_name}');\"\n",
    "cur.execute(sql)\n",
    "conn_lion.commit()"
   ]
  },
  {
   "cell_type": "code",
   "execution_count": null,
   "metadata": {},
   "outputs": [],
   "source": [
    "# create upgrade 2\n",
    "first_name = '봄이'\n",
    "last_name = '이'\n",
    "sql = \"insert into actor (first_name, last_name) values ('{}', '{}');\".format(first_name, last_name)\n",
    "cur.execute(sql)\n",
    "conn_lion.commit()"
   ]
  },
  {
   "cell_type": "code",
   "execution_count": null,
   "metadata": {},
   "outputs": [],
   "source": [
    "# read\n",
    "sql = \"select * from actor\"\n",
    "cur.execute(sql)\n",
    "# read의 경우 값을 받아와야함으로\n",
    "rows = cur.fetchall() # fetchall 메서드 사용하여 불러온다\n",
    "for row in rows:\n",
    "    print(row)"
   ]
  },
  {
   "cell_type": "code",
   "execution_count": null,
   "metadata": {},
   "outputs": [],
   "source": [
    "# update\n",
    "sql = \"update actor set last_name = 'LEE' where last_name = '이';\"\n",
    "cur.execute(sql)\n",
    "conn_lion.commit()\n"
   ]
  },
  {
   "cell_type": "code",
   "execution_count": null,
   "metadata": {},
   "outputs": [],
   "source": [
    "# delete\n",
    "sql = \"delete from actor where first_name = '룡';\"\n",
    "cur.execute(sql)\n",
    "conn_lion.commit()"
   ]
  },
  {
   "cell_type": "code",
   "execution_count": null,
   "metadata": {},
   "outputs": [],
   "source": [
    "# create table\n",
    "sql = '''create table users_tiger(\n",
    "    id serial primary key, \n",
    "    name varchar(10));'''\n",
    "cur.execute(sql)\n",
    "conn_lion.commit()"
   ]
  },
  {
   "cell_type": "markdown",
   "metadata": {},
   "source": [
    "# 클래스로 만들기"
   ]
  },
  {
   "cell_type": "code",
   "execution_count": null,
   "metadata": {},
   "outputs": [],
   "source": [
    "# DB class\n",
    "class DataBase:\n",
    "    def __init__(self):\n",
    "        self.conn_config = {\n",
    "            'host' : 'hanslab.org',\n",
    "            'user' : 'postgres',\n",
    "            'password' : '',\n",
    "            'dbname' : 'testdb',\n",
    "            'port' : 25432\n",
    "        }\n",
    "        self.conn_lion = psycopg2.connect(**self.conn_config)\n",
    "        self.cur = conn_lion.cursor()\n",
    "    \n",
    "    def execute_query(self, sql): # insert, update, delete\n",
    "        "
   ]
  },
  {
   "cell_type": "code",
   "execution_count": null,
   "metadata": {},
   "outputs": [],
   "source": [
    "# CRUD Class\n",
    "class CustomerCRUD:\n",
    "    def __init__(self, db):\n",
    "        self.db = db\n",
    "\n",
    "    def create(self):\n",
    "        \n",
    "    def read(self):\n",
    "        pass\n",
    "    def update(self):\n",
    "        pass\n",
    "    def delete(self):\n",
    "        pass"
   ]
  }
 ],
 "metadata": {
  "kernelspec": {
   "display_name": "pysql",
   "language": "python",
   "name": "python3"
  },
  "language_info": {
   "codemirror_mode": {
    "name": "ipython",
    "version": 3
   },
   "file_extension": ".py",
   "mimetype": "text/x-python",
   "name": "python",
   "nbconvert_exporter": "python",
   "pygments_lexer": "ipython3",
   "version": "3.10.14"
  }
 },
 "nbformat": 4,
 "nbformat_minor": 2
}
